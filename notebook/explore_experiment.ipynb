{
 "cells": [
  {
   "cell_type": "markdown",
   "metadata": {},
   "source": [
    "### run necessary files"
   ]
  },
  {
   "cell_type": "code",
   "execution_count": null,
   "metadata": {},
   "outputs": [],
   "source": [
    "%run ../src/utils_io.py\n",
    "%run ../src/utils_viz.py\n",
    "%run ../src/scaling.py\n",
    "%run ../src/grid_search.py"
   ]
  },
  {
   "cell_type": "markdown",
   "metadata": {},
   "source": [
    "### import necessary modules"
   ]
  },
  {
   "cell_type": "code",
   "execution_count": null,
   "metadata": {},
   "outputs": [],
   "source": [
    "import joblib\n",
    "import os\n",
    "import math\n",
    "import numpy as np\n",
    "import pandas as pd\n",
    "import matplotlib.pyplot as plt\n",
    "import matplotlib as mpl\n",
    "from matplotlib import cm\n",
    "from matplotlib import colors\n",
    "import dataframe_image as dfi\n",
    "import seaborn as sns\n",
    "import statsmodels.api as sm\n",
    "from statsmodels.stats.outliers_influence import variance_inflation_factor\n",
    "from sklearn import preprocessing\n",
    "from sklearn.linear_model import LogisticRegression\n",
    "from sklearn.model_selection import GridSearchCV\n",
    "from sklearn import metrics\n",
    "from sklearn import ensemble\n",
    "from sklearn.ensemble import RandomForestClassifier\n",
    "from xgboost import XGBClassifier"
   ]
  },
  {
   "cell_type": "markdown",
   "metadata": {},
   "source": [
    "### load the data"
   ]
  },
  {
   "cell_type": "code",
   "execution_count": null,
   "metadata": {},
   "outputs": [],
   "source": [
    "log_train_df = pd.read_pickle('../input/intermediate_dataset/train_test_data_result/train_preds_log_regg.pkl')\n",
    "log_test_df = pd.read_pickle('../input/intermediate_dataset/train_test_data_result/test_preds_log_regg.pkl')\n",
    "\n",
    "rnd_train_df = pd.read_pickle('../input/intermediate_dataset/train_test_data_result/train_preds_random_forest.pkl')\n",
    "rnd_test_df = pd.read_pickle('../input/intermediate_dataset/train_test_data_result/test_preds_random_forest.pkl')\n",
    "\n",
    "xb_train_df = pd.read_pickle('../input/intermediate_dataset/train_test_data_result/train_preds_xg_boost.pkl')\n",
    "xb_test_df = pd.read_pickle('../input/intermediate_dataset/train_test_data_result/test_preds_xg_boost.pkl')"
   ]
  },
  {
   "cell_type": "markdown",
   "metadata": {},
   "source": [
    "### plot the values"
   ]
  },
  {
   "cell_type": "code",
   "execution_count": null,
   "metadata": {},
   "outputs": [],
   "source": [
    "title_1 = \"Statsbomb xG value for train-set\"\n",
    "title_2 = \"Statsbomb xG value for test-set\"\n",
    "\n",
    "path = \"../plots/real_values/\"\n",
    "\n",
    "name_1 = \"train.jpg\"\n",
    "name_2 = \"test.jpg\"\n",
    "\n",
    "if os.path.isdir(path) == False:\n",
    "    os.mkdir(path)\n",
    "\n",
    "xG_plot(log_train_df, \"shot_statsbomb_xg\", title_1, path + name_1)\n",
    "xG_plot(log_test_df, \"shot_statsbomb_xg\", title_2, path + name_2)\n",
    "\n",
    "plt.close(\"all\")"
   ]
  },
  {
   "cell_type": "code",
   "execution_count": null,
   "metadata": {},
   "outputs": [],
   "source": [
    "title_1 = \"Logistic Regression on train-set\"\n",
    "title_2 = \"Random Forest on train-set\"\n",
    "title_3 = \"xG Boost on train-set\"\n",
    "\n",
    "path_1 = \"../plots/intermediate_model/\"\n",
    "\n",
    "name_1 = \"log_train.jpg\"\n",
    "name_2 = \"rnd_train.jpg\"\n",
    "name_3 = \"xb_train.jpg\"\n",
    "\n",
    "if os.path.isdir(path_1) == False:\n",
    "    os.mkdir(path_1)\n",
    "\n",
    "xG_plot(log_train_df, \"pred_log_regg\", title_1, path_1 + name_1)\n",
    "xG_plot(rnd_train_df, \"pred_random_forest\", title_2, path_1 + name_2)\n",
    "xG_plot(xb_train_df, \"pred_xg_boost\", title_3, path_1 + name_3)\n",
    "\n",
    "plt.close(\"all\")"
   ]
  },
  {
   "cell_type": "code",
   "execution_count": null,
   "metadata": {},
   "outputs": [],
   "source": [
    "title_1 = \"Logistic Regression on test-set\"\n",
    "title_2 = \"Random Forest on test-set\"\n",
    "title_3 = \"xG Boost on test-set\"\n",
    "\n",
    "path_1 = \"../plots/intermediate_model/\"\n",
    "\n",
    "name_1 = \"log_test.jpg\"\n",
    "name_2 = \"rnd_test.jpg\"\n",
    "name_3 = \"xb_test.jpg\"\n",
    "\n",
    "if os.path.isdir(path_1) == False:\n",
    "    os.mkdir(path_1)\n",
    "\n",
    "xG_plot(log_test_df, \"pred_log_regg\", title_1, path_1 + name_1)\n",
    "xG_plot(rnd_test_df, \"pred_random_forest\", title_2, path_1 + name_2)\n",
    "xG_plot(xb_test_df, \"pred_xg_boost\", title_3, path_1 + name_3)\n",
    "\n",
    "plt.close(\"all\")"
   ]
  },
  {
   "cell_type": "markdown",
   "metadata": {},
   "source": [
    "### make dataframe image"
   ]
  },
  {
   "cell_type": "code",
   "execution_count": null,
   "metadata": {},
   "outputs": [],
   "source": [
    "first_df = make_df(\n",
    "    log_train_df, \n",
    "    cols=[\"player_name\", \"target\", \"shot_statsbomb_xg\", \"pred_log_regg\"]\n",
    ")\n",
    "\n",
    "second_df = make_df(\n",
    "    rnd_train_df, \n",
    "    cols=[\"player_name\", \"target\", \"shot_statsbomb_xg\", \"pred_random_forest\"]\n",
    ")[\"pred_random_forest\"]\n",
    "\n",
    "third_df = make_df(\n",
    "    xb_train_df, \n",
    "    cols=[\"player_name\", \"target\", \"shot_statsbomb_xg\", \"pred_xg_boost\"]\n",
    ")[\"pred_xg_boost\"]\n",
    "\n",
    "main_df = pd.concat([first_df, second_df, third_df], axis=1)\n",
    "\n",
    "path_1 = \"../plots/intermediate_model/\"\n",
    "name_1 = \"train_simple.png\"\n",
    "\n",
    "if os.path.isdir(path_1) == False:\n",
    "    os.mkdir(path_1) \n",
    "\n",
    "plot_dataframe(\n",
    "    main_df,\n",
    "    path=path_1 + name_1\n",
    ")"
   ]
  },
  {
   "cell_type": "code",
   "execution_count": null,
   "metadata": {},
   "outputs": [],
   "source": [
    "first_df = make_df(\n",
    "    log_test_df, \n",
    "    cols=[\"player_name\", \"target\", \"shot_statsbomb_xg\", \"pred_log_regg\"]\n",
    ")\n",
    "\n",
    "second_df = make_df(\n",
    "    rnd_test_df, \n",
    "    cols=[\"player_name\", \"target\", \"shot_statsbomb_xg\", \"pred_random_forest\"]\n",
    ")[\"pred_random_forest\"]\n",
    "\n",
    "third_df = make_df(\n",
    "    xb_test_df, \n",
    "    cols=[\"player_name\", \"target\", \"shot_statsbomb_xg\", \"pred_xg_boost\"]\n",
    ")[\"pred_xg_boost\"]\n",
    "\n",
    "main_df = pd.concat([first_df, second_df, third_df], axis=1)\n",
    "\n",
    "\n",
    "path_1 = \"../plots/intermediate_model/\"\n",
    "name_1 = \"test_simple.png\"\n",
    "\n",
    "if os.path.isdir(path_1) == False:\n",
    "    os.mkdir(path_1) \n",
    "\n",
    "plot_dataframe(\n",
    "    main_df,\n",
    "    path=path_1 + name_1\n",
    ")"
   ]
  },
  {
   "cell_type": "markdown",
   "metadata": {},
   "source": [
    "### Indv "
   ]
  },
  {
   "cell_type": "code",
   "execution_count": null,
   "metadata": {},
   "outputs": [],
   "source": [
    "plot_dataframe(\n",
    "    df,\n",
    "    path=\"../plots/intermediate_model/random_sample.png\"\n",
    ")"
   ]
  },
  {
   "cell_type": "markdown",
   "metadata": {},
   "source": [
    "### P-value"
   ]
  },
  {
   "cell_type": "code",
   "execution_count": null,
   "metadata": {},
   "outputs": [],
   "source": [
    "## read in the dataset\n",
    "train_df = pd.read_pickle(\"../input/intermediate_dataset/train_test_data_final/train_ohe_final.pkl\")\n",
    "\n",
    "## drop unnecessary columns\n",
    "x_train = train_df.drop([\"target\"], axis=1)\n",
    "\n",
    "## scale the values\n",
    "scale = Scale(\n",
    "    df = x_train,\n",
    "    scale_type = \"std\",\n",
    "    cols = [\"angle\", \"distance\"]\n",
    ")\n",
    "\n",
    "x_train = scale.fit_transform()\n",
    "\n",
    "## fetch target values for train and test dataframe\n",
    "y_train = train_df['target'].values\n",
    "\n",
    "## get summary\n",
    "lm = get_stats(x_train, y_train)\n",
    "\n",
    "print(lm.summary())"
   ]
  },
  {
   "cell_type": "markdown",
   "metadata": {},
   "source": [
    "## Feature Importance: Random Forest"
   ]
  },
  {
   "cell_type": "code",
   "execution_count": null,
   "metadata": {},
   "outputs": [],
   "source": [
    "## read in the dataset\n",
    "train_df = pd.read_pickle(\"../input/intermediate_dataset/train_test_data_final/train_label_final.pkl\")\n",
    "\n",
    "## drop unnecessary columns\n",
    "x_train = train_df.drop([\"target\"], axis=1)\n",
    "y_train = train_df[\"target\"]\n",
    "\n",
    "## columns\n",
    "col_names = x_train.columns\n",
    "\n",
    "## model\n",
    "model = RandomForestClassifier()\n",
    "\n",
    "## fit the model\n",
    "model.fit(x_train, y_train)\n",
    "\n",
    "## feature importance\n",
    "importances = model.feature_importances_\n",
    "idsx = np.argsort(importances)\n",
    "plt.title(\"Feature Importance\")\n",
    "plt.barh(range(len(idsx)), importances[idsx], align=\"center\")\n",
    "plt.yticks(range(len(idsx)), [col_names[i] for i in idsx])\n",
    "plt.xlabel(\"Random Forest Feature Importance\")\n",
    "plt.show()"
   ]
  },
  {
   "cell_type": "markdown",
   "metadata": {},
   "source": [
    "## Feature Importance: xGBoost"
   ]
  },
  {
   "cell_type": "code",
   "execution_count": null,
   "metadata": {},
   "outputs": [],
   "source": [
    "## read in the dataset\n",
    "train_df = pd.read_pickle(\"../input/intermediate_dataset/train_test_data_final/train_label_final.pkl\")\n",
    "\n",
    "## drop unnecessary columns\n",
    "x_train = train_df.drop([\"target\"], axis=1)\n",
    "y_train = train_df[\"target\"]\n",
    "\n",
    "## columns\n",
    "col_names = x_train.columns\n",
    "\n",
    "## model\n",
    "model = XGBClassifier()\n",
    "\n",
    "## fit the model\n",
    "model.fit(x_train, y_train)\n",
    "\n",
    "## feature importance\n",
    "importances = model.feature_importances_\n",
    "idsx = np.argsort(importances)\n",
    "plt.title(\"Feature Importance\")\n",
    "plt.barh(range(len(idsx)), importances[idsx], align=\"center\")\n",
    "plt.yticks(range(len(idsx)), [col_names[i] for i in idsx])\n",
    "plt.xlabel(\"xGBoost Feature Importance\")\n",
    "plt.show()"
   ]
  },
  {
   "cell_type": "markdown",
   "metadata": {},
   "source": [
    "### Log-Reg"
   ]
  },
  {
   "cell_type": "code",
   "execution_count": null,
   "metadata": {},
   "outputs": [],
   "source": [
    "## read in the dataset\n",
    "train_df = pd.read_pickle(\"../input/intermediate_dataset/train_test_data_final/train_ohe_final.pkl\")\n",
    "\n",
    "## drop unnecessary columns\n",
    "x_train = train_df.drop([\"target\"], axis=1)\n",
    "\n",
    "## scale the values\n",
    "scale = Scale(\n",
    "    df = x_train,\n",
    "    scale_type = \"std\",\n",
    "    cols = [\"angle\", \"distance\"]\n",
    ")\n",
    "\n",
    "x_train = scale.fit_transform()\n",
    "\n",
    "## fetch target values for train and test dataframe\n",
    "y_train = train_df['target'].values\n",
    "x_train = x_train.values\n",
    "\n",
    "params = tune_log_model(x_train, y_train)"
   ]
  },
  {
   "cell_type": "code",
   "execution_count": null,
   "metadata": {},
   "outputs": [],
   "source": [
    "params"
   ]
  },
  {
   "cell_type": "markdown",
   "metadata": {},
   "source": [
    "### Random Forest"
   ]
  },
  {
   "cell_type": "code",
   "execution_count": null,
   "metadata": {},
   "outputs": [],
   "source": [
    "## read in the dataset\n",
    "train_df = pd.read_pickle(\"../input/intermediate_dataset/train_test_data_final/train_label_final.pkl\")\n",
    "\n",
    "## drop unnecessary columns\n",
    "x_train = train_df.drop([\"target\"], axis=1)\n",
    "\n",
    "## fetch target values for train and test dataframe\n",
    "y_train = train_df['target'].values\n",
    "x_train = x_train.values\n",
    "\n",
    "params = tune_random_forest(x_train, y_train)"
   ]
  },
  {
   "cell_type": "code",
   "execution_count": null,
   "metadata": {},
   "outputs": [],
   "source": [
    "params"
   ]
  },
  {
   "cell_type": "markdown",
   "metadata": {},
   "source": [
    "### xG Boost"
   ]
  },
  {
   "cell_type": "code",
   "execution_count": null,
   "metadata": {},
   "outputs": [],
   "source": [
    "## read in the dataset\n",
    "train_df = pd.read_pickle(\"../input/intermediate_dataset/train_test_data_final/train_label_final.pkl\")\n",
    "\n",
    "## drop unnecessary columns\n",
    "x_train = train_df.drop([\"target\"], axis=1)\n",
    "\n",
    "## fetch target values for train and test dataframe\n",
    "y_train = train_df['target'].values\n",
    "x_train = x_train.values\n",
    "\n",
    "params = tune_xg_boost(x_train, y_train)"
   ]
  },
  {
   "cell_type": "code",
   "execution_count": null,
   "metadata": {
    "scrolled": true
   },
   "outputs": [],
   "source": [
    "params"
   ]
  },
  {
   "cell_type": "markdown",
   "metadata": {},
   "source": [
    "## New"
   ]
  },
  {
   "cell_type": "code",
   "execution_count": null,
   "metadata": {},
   "outputs": [],
   "source": [
    "pd.set_option('display.max_columns', None)"
   ]
  },
  {
   "cell_type": "code",
   "execution_count": null,
   "metadata": {},
   "outputs": [],
   "source": [
    "comp_df = get_competition(path=\"../input/Statsbomb/data/competitions.json\")"
   ]
  },
  {
   "cell_type": "code",
   "execution_count": null,
   "metadata": {
    "scrolled": true
   },
   "outputs": [],
   "source": [
    "comp_df"
   ]
  },
  {
   "cell_type": "code",
   "execution_count": null,
   "metadata": {},
   "outputs": [],
   "source": [
    "comp_id = 16\n",
    "season_id = 1\n",
    "\n",
    "match_df = get_matches(\n",
    "    comp_id, season_id, \n",
    "    path=f\"../input/Statsbomb/data/matches/{comp_id}/{season_id}.json\"\n",
    ")"
   ]
  },
  {
   "cell_type": "code",
   "execution_count": null,
   "metadata": {},
   "outputs": [],
   "source": [
    "event_df = make_event_df(\n",
    "    match_id=18245,\n",
    "    path=f\"../input/Statsbomb/data/events/{18245}.json\"\n",
    ")\n",
    "\n",
    "lineup_df = make_event_df(\n",
    "    match_id=22912,\n",
    "    path=f\"../input/Statsbomb/data/events/{22912}.json\"\n",
    ")"
   ]
  },
  {
   "cell_type": "code",
   "execution_count": null,
   "metadata": {},
   "outputs": [],
   "source": [
    "event_df.loc[\n",
    "    (event_df[\"type_name\"] == \"Pass\"),\n",
    "    \"pass_type_name\"\n",
    "].value_counts()"
   ]
  },
  {
   "cell_type": "code",
   "execution_count": null,
   "metadata": {},
   "outputs": [],
   "source": [
    "event_df.loc[\n",
    "    2528,\n",
    "    \"pass_cross\"\n",
    "]"
   ]
  },
  {
   "cell_type": "code",
   "execution_count": null,
   "metadata": {},
   "outputs": [],
   "source": [
    "df = pd.read_pickle(\"../input/intermediate_dataset/train_test_data/train_df.pkl\")"
   ]
  },
  {
   "cell_type": "code",
   "execution_count": null,
   "metadata": {},
   "outputs": [],
   "source": [
    "df[\"shot_type_name\"].unique(), df[\"assisted_via_type\"].unique()"
   ]
  },
  {
   "cell_type": "code",
   "execution_count": null,
   "metadata": {},
   "outputs": [],
   "source": [
    "df"
   ]
  }
 ],
 "metadata": {
  "kernelspec": {
   "display_name": "Python 3",
   "language": "python",
   "name": "python3"
  },
  "language_info": {
   "codemirror_mode": {
    "name": "ipython",
    "version": 3
   },
   "file_extension": ".py",
   "mimetype": "text/x-python",
   "name": "python",
   "nbconvert_exporter": "python",
   "pygments_lexer": "ipython3",
   "version": "3.7.7"
  }
 },
 "nbformat": 4,
 "nbformat_minor": 4
}
