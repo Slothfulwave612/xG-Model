{
 "cells": [
  {
   "cell_type": "markdown",
   "metadata": {},
   "source": [
    "### run necessary files"
   ]
  },
  {
   "cell_type": "code",
   "execution_count": 107,
   "metadata": {},
   "outputs": [],
   "source": [
    "%run ../src/utils_io.py\n",
    "%run ../src/utils_viz.py\n",
    "%run ../src/scaling.py\n",
    "%run ../src/grid_search.py"
   ]
  },
  {
   "cell_type": "markdown",
   "metadata": {},
   "source": [
    "### import necessary modules"
   ]
  },
  {
   "cell_type": "code",
   "execution_count": 24,
   "metadata": {},
   "outputs": [],
   "source": [
    "import joblib\n",
    "import math\n",
    "import numpy as np\n",
    "import pandas as pd\n",
    "import matplotlib.pyplot as plt\n",
    "import matplotlib as mpl\n",
    "from matplotlib import cm\n",
    "from matplotlib import colors\n",
    "import dataframe_image as dfi\n",
    "import seaborn as sns\n",
    "import statsmodels.api as sm\n",
    "from sklearn import preprocessing\n",
    "from sklearn.linear_model import LogisticRegression\n",
    "from sklearn.model_selection import GridSearchCV\n",
    "from sklearn import metrics\n",
    "from sklearn import ensemble"
   ]
  },
  {
   "cell_type": "markdown",
   "metadata": {},
   "source": [
    "### load the data"
   ]
  },
  {
   "cell_type": "code",
   "execution_count": 25,
   "metadata": {},
   "outputs": [],
   "source": [
    "log_train_df = pd.read_pickle('../input/basic_dataset/train_test_data_result/train_preds_log_regg.pkl')\n",
    "log_test_df = pd.read_pickle('../input/basic_dataset/train_test_data_result/test_preds_log_regg.pkl')\n",
    "\n",
    "rnd_train_df = pd.read_pickle('../input/basic_dataset/train_test_data_result/train_preds_random_forest.pkl')\n",
    "rnd_test_df = pd.read_pickle('../input/basic_dataset/train_test_data_result/test_preds_random_forest.pkl')\n",
    "\n",
    "xb_train_df = pd.read_pickle('../input/basic_dataset/train_test_data_result/train_preds_xg_boost.pkl')\n",
    "xb_test_df = pd.read_pickle('../input/basic_dataset/train_test_data_result/test_preds_xg_boost.pkl')"
   ]
  },
  {
   "cell_type": "markdown",
   "metadata": {},
   "source": [
    "### plot the values"
   ]
  },
  {
   "cell_type": "code",
   "execution_count": 36,
   "metadata": {},
   "outputs": [],
   "source": [
    "title_1 = \"Statsbomb xG value for train-set\"\n",
    "title_2 = \"Statsbomb xG value for test-set\"\n",
    "\n",
    "xG_plot(log_train_df, \"shot_statsbomb_xg\", title_1, \"../plots/real_values/train.jpg\")\n",
    "xG_plot(log_test_df, \"shot_statsbomb_xg\", title_2, \"../plots/real_values/test.jpg\")\n",
    "\n",
    "plt.close(\"all\")"
   ]
  },
  {
   "cell_type": "code",
   "execution_count": 37,
   "metadata": {},
   "outputs": [],
   "source": [
    "title_1 = \"Logistic Regression on train-set\"\n",
    "title_2 = \"Random Forest on train-set\"\n",
    "title_3 = \"xG Boost on train-set\"\n",
    "\n",
    "xG_plot(log_train_df, \"pred_log_regg\", title_1, \"../plots/basic_dataset/log_train.jpg\")\n",
    "xG_plot(rnd_train_df, \"pred_random_forest\", title_2, \"../plots/basic_dataset/rnd_train.jpg\")\n",
    "xG_plot(xb_train_df, \"pred_xg_boost\", title_3, \"../plots/basic_dataset/xb_train.jpg\")\n",
    "\n",
    "plt.close(\"all\")"
   ]
  },
  {
   "cell_type": "code",
   "execution_count": 38,
   "metadata": {},
   "outputs": [],
   "source": [
    "title_1 = \"Logistic Regression on test-set\"\n",
    "title_2 = \"Random Forest on test-set\"\n",
    "title_3 = \"xG Boost on test-set\"\n",
    "\n",
    "xG_plot(log_test_df, \"pred_log_regg\", title_1, \"../plots/basic_dataset/log_test.jpg\")\n",
    "xG_plot(rnd_test_df, \"pred_random_forest\", title_2, \"../plots/basic_dataset/rnd_test.jpg\")\n",
    "xG_plot(xb_test_df, \"pred_xg_boost\", title_3, \"../plots/basic_dataset/xb_test.jpg\")\n",
    "\n",
    "plt.close(\"all\")"
   ]
  },
  {
   "cell_type": "markdown",
   "metadata": {},
   "source": [
    "### make dataframe image"
   ]
  },
  {
   "cell_type": "code",
   "execution_count": 109,
   "metadata": {},
   "outputs": [],
   "source": [
    "first_df = make_df(\n",
    "    log_train_df, \n",
    "    cols=[\"player_name\", \"target\", \"shot_statsbomb_xg\", \"pred_log_regg\"]\n",
    ")\n",
    "\n",
    "second_df = make_df(\n",
    "    rnd_train_df, \n",
    "    cols=[\"player_name\", \"target\", \"shot_statsbomb_xg\", \"pred_random_forest\"]\n",
    ")[\"pred_random_forest\"]\n",
    "\n",
    "third_df = make_df(\n",
    "    xb_train_df, \n",
    "    cols=[\"player_name\", \"target\", \"shot_statsbomb_xg\", \"pred_xg_boost\"]\n",
    ")[\"pred_xg_boost\"]\n",
    "\n",
    "main_df = pd.concat([first_df, second_df, third_df], axis=1)\n",
    "\n",
    "plot_dataframe(\n",
    "    main_df,\n",
    "    path=\"../plots/basic_dataset/train_simple.png\"\n",
    ")"
   ]
  },
  {
   "cell_type": "code",
   "execution_count": 110,
   "metadata": {},
   "outputs": [],
   "source": [
    "first_df = make_df(\n",
    "    log_test_df, \n",
    "    cols=[\"player_name\", \"target\", \"shot_statsbomb_xg\", \"pred_log_regg\"]\n",
    ")\n",
    "\n",
    "second_df = make_df(\n",
    "    rnd_test_df, \n",
    "    cols=[\"player_name\", \"target\", \"shot_statsbomb_xg\", \"pred_random_forest\"]\n",
    ")[\"pred_random_forest\"]\n",
    "\n",
    "third_df = make_df(\n",
    "    xb_test_df, \n",
    "    cols=[\"player_name\", \"target\", \"shot_statsbomb_xg\", \"pred_xg_boost\"]\n",
    ")[\"pred_xg_boost\"]\n",
    "\n",
    "main_df = pd.concat([first_df, second_df, third_df], axis=1)\n",
    "\n",
    "plot_dataframe(\n",
    "    main_df,\n",
    "    path=\"../plots/basic_dataset/test_simple.png\"\n",
    ")"
   ]
  },
  {
   "cell_type": "markdown",
   "metadata": {},
   "source": [
    "### Indv "
   ]
  },
  {
   "cell_type": "code",
   "execution_count": 99,
   "metadata": {},
   "outputs": [],
   "source": [
    "one = log_train_df.loc[\n",
    "    (log_train_df[\"shot_type_name\"] == \"Open Play\") &\n",
    "    (log_train_df[\"body_part\"] == \"Foot\") \n",
    "].sample(n=5).reset_index(drop=True)\n",
    "\n",
    "two = log_train_df.loc[\n",
    "    (log_train_df[\"shot_type_name\"] == \"Open Play\") &\n",
    "    (log_train_df[\"body_part\"] == \"Head\") \n",
    "].sample(n=5).reset_index(drop=True)\n",
    "\n",
    "three = log_train_df.loc[\n",
    "    (log_train_df[\"body_part\"] == \"Other\") \n",
    "].sample(n=5).reset_index(drop=True)\n",
    "\n",
    "four = log_train_df.loc[\n",
    "    (log_train_df[\"shot_type_name\"] == \"Free Kick\")\n",
    "].sample(n=5).reset_index(drop=True)\n",
    "\n",
    "df = pd.concat([one, two, three, four], axis=0).reset_index(drop=True)\n",
    "\n",
    "df = df.loc[:, [\"player_name\", 'angle', 'distance', \"shot_type_name\", \"body_part\", \"target\",\n",
    "               \"shot_statsbomb_xg\", \"pred_log_regg\"]]"
   ]
  },
  {
   "cell_type": "code",
   "execution_count": 108,
   "metadata": {},
   "outputs": [],
   "source": [
    "plot_dataframe(\n",
    "    df,\n",
    "    path=\"../plots/basic_dataset/random_sample.png\"\n",
    ")"
   ]
  },
  {
   "cell_type": "markdown",
   "metadata": {},
   "source": [
    "### P-value"
   ]
  },
  {
   "cell_type": "code",
   "execution_count": 111,
   "metadata": {},
   "outputs": [
    {
     "name": "stdout",
     "output_type": "stream",
     "text": [
      "Optimization terminated successfully.\n",
      "         Current function value: 0.309483\n",
      "         Iterations 7\n",
      "                           Logit Regression Results                           \n",
      "==============================================================================\n",
      "Dep. Variable:                      y   No. Observations:                14971\n",
      "Model:                          Logit   Df Residuals:                    14965\n",
      "Method:                           MLE   Df Model:                            5\n",
      "Date:                Sat, 19 Sep 2020   Pseudo R-squ.:                  0.1527\n",
      "Time:                        17:01:36   Log-Likelihood:                -4633.3\n",
      "converged:                       True   LL-Null:                       -5468.2\n",
      "Covariance Type:            nonrobust   LLR p-value:                     0.000\n",
      "==================================================================================\n",
      "                     coef    std err          z      P>|z|      [0.025      0.975]\n",
      "----------------------------------------------------------------------------------\n",
      "x0_Open Play      -1.2389      0.125     -9.890      0.000      -1.484      -0.993\n",
      "x1_Foot           -1.0693      0.111     -9.602      0.000      -1.288      -0.851\n",
      "x1_Head           -2.5937      0.134    -19.410      0.000      -2.856      -2.332\n",
      "distance          -1.2016      0.071    -17.015      0.000      -1.340      -1.063\n",
      "angle              0.2386      0.041      5.753      0.000       0.157       0.320\n",
      "distance_angle     0.1865      0.033      5.589      0.000       0.121       0.252\n",
      "==================================================================================\n"
     ]
    }
   ],
   "source": [
    "## read in the dataset\n",
    "train_df = pd.read_pickle(\"../input/basic_dataset/train_test_data_final/train_ohe_final.pkl\")\n",
    "\n",
    "## drop unnecessary columns\n",
    "x_train = train_df.drop([\"shot_statsbomb_xg\", \"player_name\", \"target\"], axis=1)\n",
    "\n",
    "## scale the values\n",
    "scale = Scale(\n",
    "    df = x_train,\n",
    "    scale_type = \"std\",\n",
    "    cols = [\"angle\", \"distance\", \"distance_angle\"]\n",
    ")\n",
    "\n",
    "x_train = scale.fit_transform()\n",
    "\n",
    "## fetch target values for train and test dataframe\n",
    "y_train = train_df['target'].values\n",
    "\n",
    "## get summary\n",
    "summary = get_stats(x_train, y_train)\n",
    "\n",
    "print(summary)"
   ]
  },
  {
   "cell_type": "markdown",
   "metadata": {},
   "source": [
    "### Log-Reg"
   ]
  },
  {
   "cell_type": "code",
   "execution_count": 113,
   "metadata": {},
   "outputs": [
    {
     "name": "stdout",
     "output_type": "stream",
     "text": [
      "Fitting 5 folds for each of 80 candidates, totalling 400 fits\n"
     ]
    },
    {
     "name": "stderr",
     "output_type": "stream",
     "text": [
      "[Parallel(n_jobs=-1)]: Using backend LokyBackend with 12 concurrent workers.\n",
      "[Parallel(n_jobs=-1)]: Done  26 tasks      | elapsed:    1.1s\n",
      "[Parallel(n_jobs=-1)]: Done 377 out of 400 | elapsed:    7.6s remaining:    0.5s\n"
     ]
    },
    {
     "name": "stdout",
     "output_type": "stream",
     "text": [
      "ROC-AUC : 0.7759800319893241\n"
     ]
    },
    {
     "name": "stderr",
     "output_type": "stream",
     "text": [
      "[Parallel(n_jobs=-1)]: Done 400 out of 400 | elapsed:    7.9s finished\n"
     ]
    }
   ],
   "source": [
    "## read in the dataset\n",
    "train_df = pd.read_pickle(\"../input/basic_dataset/train_test_data_final/train_ohe_final.pkl\")\n",
    "\n",
    "## drop unnecessary columns\n",
    "x_train = train_df.drop([\"shot_statsbomb_xg\", \"player_name\", \"target\"], axis=1)\n",
    "\n",
    "## scale the values\n",
    "scale = Scale(\n",
    "    df = x_train,\n",
    "    scale_type = \"std\",\n",
    "    cols = [\"angle\", \"distance\", \"distance_angle\"]\n",
    ")\n",
    "\n",
    "x_train = scale.fit_transform()\n",
    "\n",
    "## fetch target values for train and test dataframe\n",
    "y_train = train_df['target'].values\n",
    "x_train = x_train.values\n",
    "\n",
    "params = tune_log_model(x_train, y_train)"
   ]
  },
  {
   "cell_type": "code",
   "execution_count": 114,
   "metadata": {},
   "outputs": [
    {
     "data": {
      "text/plain": [
       "{'C': 0.3593813663804626, 'penalty': 'l2', 'solver': 'saga'}"
      ]
     },
     "execution_count": 114,
     "metadata": {},
     "output_type": "execute_result"
    }
   ],
   "source": [
    "params"
   ]
  },
  {
   "cell_type": "markdown",
   "metadata": {},
   "source": [
    "### Random Forest"
   ]
  },
  {
   "cell_type": "code",
   "execution_count": 116,
   "metadata": {},
   "outputs": [
    {
     "name": "stdout",
     "output_type": "stream",
     "text": [
      "Fitting 5 folds for each of 210 candidates, totalling 1050 fits\n"
     ]
    },
    {
     "name": "stderr",
     "output_type": "stream",
     "text": [
      "[Parallel(n_jobs=-1)]: Using backend LokyBackend with 12 concurrent workers.\n",
      "[Parallel(n_jobs=-1)]: Done  26 tasks      | elapsed:    9.0s\n",
      "[Parallel(n_jobs=-1)]: Done 176 tasks      | elapsed:   59.2s\n",
      "[Parallel(n_jobs=-1)]: Done 426 tasks      | elapsed:  3.3min\n",
      "[Parallel(n_jobs=-1)]: Done 776 tasks      | elapsed:  6.3min\n",
      "[Parallel(n_jobs=-1)]: Done 1050 out of 1050 | elapsed: 10.0min finished\n"
     ]
    },
    {
     "name": "stdout",
     "output_type": "stream",
     "text": [
      "ROC-AUC : 0.7745215868786487\n"
     ]
    }
   ],
   "source": [
    "## read in the dataset\n",
    "train_df = pd.read_pickle(\"../input/basic_dataset/train_test_data_final/train_label_final.pkl\")\n",
    "\n",
    "## drop unnecessary columns\n",
    "x_train = train_df.drop([\"shot_statsbomb_xg\", \"player_name\", \"target\"], axis=1)\n",
    "\n",
    "## fetch target values for train and test dataframe\n",
    "y_train = train_df['target'].values\n",
    "x_train = x_train.values\n",
    "\n",
    "params = tune_random_forest(x_train, y_train)"
   ]
  },
  {
   "cell_type": "code",
   "execution_count": 117,
   "metadata": {},
   "outputs": [
    {
     "data": {
      "text/plain": [
       "{'criterion': 'entropy',\n",
       " 'max_depth': 5,\n",
       " 'min_samples_split': 2,\n",
       " 'n_estimators': 100}"
      ]
     },
     "execution_count": 117,
     "metadata": {},
     "output_type": "execute_result"
    }
   ],
   "source": [
    "params"
   ]
  },
  {
   "cell_type": "markdown",
   "metadata": {},
   "source": [
    "### xG Boost"
   ]
  },
  {
   "cell_type": "code",
   "execution_count": 118,
   "metadata": {},
   "outputs": [
    {
     "name": "stdout",
     "output_type": "stream",
     "text": [
      "Fitting 5 folds for each of 125 candidates, totalling 625 fits\n"
     ]
    },
    {
     "name": "stderr",
     "output_type": "stream",
     "text": [
      "[Parallel(n_jobs=-1)]: Using backend LokyBackend with 12 concurrent workers.\n",
      "[Parallel(n_jobs=-1)]: Done  26 tasks      | elapsed:    4.1s\n",
      "[Parallel(n_jobs=-1)]: Done 176 tasks      | elapsed:   20.3s\n",
      "[Parallel(n_jobs=-1)]: Done 426 tasks      | elapsed:   47.0s\n",
      "[Parallel(n_jobs=-1)]: Done 625 out of 625 | elapsed:  1.2min finished\n"
     ]
    },
    {
     "name": "stdout",
     "output_type": "stream",
     "text": [
      "ROC-AUC : 0.775137370519906\n"
     ]
    }
   ],
   "source": [
    "## read in the dataset\n",
    "train_df = pd.read_pickle(\"../input/basic_dataset/train_test_data_final/train_label_final.pkl\")\n",
    "\n",
    "## drop unnecessary columns\n",
    "x_train = train_df.drop([\"shot_statsbomb_xg\", \"player_name\", \"target\"], axis=1)\n",
    "\n",
    "## fetch target values for train and test dataframe\n",
    "y_train = train_df['target'].values\n",
    "x_train = x_train.values\n",
    "\n",
    "params = tune_xg_boost(x_train, y_train)"
   ]
  },
  {
   "cell_type": "code",
   "execution_count": 119,
   "metadata": {
    "scrolled": true
   },
   "outputs": [
    {
     "data": {
      "text/plain": [
       "{'min_child_weight': 5,\n",
       " 'max_depth': 4,\n",
       " 'learning_rate': 0.05,\n",
       " 'gamma': 0,\n",
       " 'colsample_bytree': 0.7}"
      ]
     },
     "execution_count": 119,
     "metadata": {},
     "output_type": "execute_result"
    }
   ],
   "source": [
    "params"
   ]
  }
 ],
 "metadata": {
  "kernelspec": {
   "display_name": "Python 3",
   "language": "python",
   "name": "python3"
  },
  "language_info": {
   "codemirror_mode": {
    "name": "ipython",
    "version": 3
   },
   "file_extension": ".py",
   "mimetype": "text/x-python",
   "name": "python",
   "nbconvert_exporter": "python",
   "pygments_lexer": "ipython3",
   "version": "3.7.7"
  }
 },
 "nbformat": 4,
 "nbformat_minor": 4
}
